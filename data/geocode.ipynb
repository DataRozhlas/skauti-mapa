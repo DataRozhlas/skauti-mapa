{
 "cells": [
  {
   "cell_type": "code",
   "execution_count": 26,
   "metadata": {},
   "outputs": [],
   "source": [
    "import pandas as pd\n",
    "import json"
   ]
  },
  {
   "cell_type": "code",
   "execution_count": 12,
   "metadata": {},
   "outputs": [],
   "source": [
    "psc = pd.read_csv('./psc_coords.csv').set_index('POST_CODE').to_dict(orient='index')"
   ]
  },
  {
   "cell_type": "code",
   "execution_count": 40,
   "metadata": {},
   "outputs": [],
   "source": [
    "za = pd.read_csv('./mapa.csv')"
   ]
  },
  {
   "cell_type": "code",
   "execution_count": 43,
   "metadata": {},
   "outputs": [
    {
     "data": {
      "text/plain": [
       "742"
      ]
     },
     "execution_count": 43,
     "metadata": {},
     "output_type": "execute_result"
    }
   ],
   "source": [
    "za.celkem.max()"
   ]
  },
  {
   "cell_type": "code",
   "execution_count": 7,
   "metadata": {},
   "outputs": [],
   "source": [
    "zakl = pd.read_csv('./mapa.csv').to_dict(orient='index')"
   ]
  },
  {
   "cell_type": "code",
   "execution_count": 22,
   "metadata": {},
   "outputs": [],
   "source": [
    "# augm. chybejici PSC\n",
    "psc[28000] = {'POST_NAME': 'Kolín 2', 'x': 15.2147703, 'y': 50.0244808}\n",
    "psc[25002] = {'POST_NAME': 'Brandýs nad Labem-Stará Boleslav 2', 'x': 14.6754631, 'y': 50.1963822}\n",
    "psc[18102] = {'POST_NAME': 'Praha 89', 'x': 14.4283847, 'y': 50.1408822}\n",
    "psc[77200] = {'POST_NAME': 'Olomouc 2', 'x': 17.2772822, 'y': 49.5939053}\n",
    "psc[40501] = {'POST_NAME': 'Děčín III - Staré město', 'x': 14.2165272, 'y': 50.7761594}"
   ]
  },
  {
   "cell_type": "code",
   "execution_count": 23,
   "metadata": {},
   "outputs": [],
   "source": [
    "for z in zakl:\n",
    "    p = zakl[z]['PSC']\n",
    "    if p in psc:\n",
    "        zakl[z]['x'] = psc[p]['x'] \n",
    "        zakl[z]['y'] = psc[p]['y']\n",
    "    else:\n",
    "        print(z)"
   ]
  },
  {
   "cell_type": "code",
   "execution_count": 39,
   "metadata": {},
   "outputs": [],
   "source": [
    "with open('../zakladny.js', 'w', encoding='utf-8') as f:\n",
    "    f.write('var zakladny = ' + json.dumps(list(zakl.values())).replace('NaN', '\"ne\"').replace('true', '\"ano\"') + ';')"
   ]
  }
 ],
 "metadata": {
  "kernelspec": {
   "display_name": "Python 3",
   "language": "python",
   "name": "python3"
  },
  "language_info": {
   "codemirror_mode": {
    "name": "ipython",
    "version": 3
   },
   "file_extension": ".py",
   "mimetype": "text/x-python",
   "name": "python",
   "nbconvert_exporter": "python",
   "pygments_lexer": "ipython3",
   "version": "3.6.3"
  }
 },
 "nbformat": 4,
 "nbformat_minor": 2
}
